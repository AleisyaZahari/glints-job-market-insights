{
 "cells": [
  {
   "cell_type": "markdown",
   "id": "30090c5f",
   "metadata": {},
   "source": [
    "# import"
   ]
  },
  {
   "cell_type": "code",
   "execution_count": null,
   "id": "221f4fb7-645c-4071-93d8-a871cc552af8",
   "metadata": {},
   "outputs": [],
   "source": [
    "import pandas as pd\n",
    "import numpy as np\n",
    "import matplotlib.pyplot as plt\n",
    "import seaborn as sns\n"
   ]
  },
  {
   "cell_type": "code",
   "execution_count": null,
   "id": "f0f0e596-901c-409a-a84c-46b894e29943",
   "metadata": {},
   "outputs": [],
   "source": [
    "# Load data (gantilah dengan path filemu)\n",
    "df_job = pd.read_csv('scrape glints companies and jobs/scraping/job_posti_with_details.csv')\n",
    "df_company = pd.read_excel(r\"scrape glints companies and jobs/scraping/company_df.xlsx\")\n",
    "\n",
    "# Lihat overview awal\n",
    "print(df_job.info())\n",
    "print(df_company.info())"
   ]
  },
  {
   "cell_type": "code",
   "execution_count": null,
   "id": "f35a8c68-025e-4827-ac6a-44d8a3311cf8",
   "metadata": {},
   "outputs": [],
   "source": [
    "# df_job.head()"
   ]
  },
  {
   "cell_type": "markdown",
   "id": "1fb97031",
   "metadata": {},
   "source": [
    "# data preprocessing"
   ]
  },
  {
   "cell_type": "code",
   "execution_count": null,
   "id": "39aac9d5-8e27-480b-89f6-634b3b3d38b5",
   "metadata": {},
   "outputs": [],
   "source": [
    "# Convert kolom Timestamp_Scraped ke datetime\n",
    "df_job['Timestamp_Scraped'] = pd.to_datetime(df_job['Timestamp_Scraped'], errors='coerce')\n",
    "\n",
    "# Hapus spasi berlebih dari semua kolom object\n",
    "for col in df_job.select_dtypes(include='object'):\n",
    "    df_job[col] = df_job[col].astype(str).str.strip()\n",
    "\n",
    "for col in df_company.select_dtypes(include='object'):\n",
    "    df_company[col] = df_company[col].astype(str).str.strip()\n"
   ]
  },
  {
   "cell_type": "code",
   "execution_count": null,
   "id": "6b1339a8-1ddb-4b8f-a30c-8b3eb7c349b1",
   "metadata": {},
   "outputs": [],
   "source": [
    "# Convert kolom Timestamp_Scraped ke datetime\n",
    "df_job['Timestamp_Scraped'] = pd.to_datetime(df_job['Timestamp_Scraped'], errors='coerce')\n",
    "\n",
    "# Hapus spasi berlebih dari semua kolom object\n",
    "for col in df_job.select_dtypes(include='object'):\n",
    "    df_job[col] = df_job[col].astype(str).str.strip()\n",
    "\n",
    "for col in df_company.select_dtypes(include='object'):\n",
    "    df_company[col] = df_company[col].astype(str).str.strip()\n"
   ]
  },
  {
   "cell_type": "code",
   "execution_count": null,
   "id": "b1c494f7-ceec-466e-835e-121ac14e0e7b",
   "metadata": {},
   "outputs": [],
   "source": [
    "# Convert kolom Timestamp_Scraped ke datetime\n",
    "df_job['Timestamp_Scraped'] = pd.to_datetime(df_job['Timestamp_Scraped'], errors='coerce')\n",
    "\n",
    "# Hapus spasi berlebih dari semua kolom object\n",
    "for col in df_job.select_dtypes(include='object'):\n",
    "    df_job[col] = df_job[col].astype(str).str.strip()\n",
    "\n",
    "for col in df_company.select_dtypes(include='object'):\n",
    "    df_company[col] = df_company[col].astype(str).str.strip()\n"
   ]
  },
  {
   "cell_type": "code",
   "execution_count": null,
   "id": "86ec1859-4493-4eab-9c9a-cfcb1fe46cf3",
   "metadata": {},
   "outputs": [],
   "source": [
    "df_company_email = df_company[df_company['Cleaned_Email'].notna()].copy()"
   ]
  },
  {
   "cell_type": "code",
   "execution_count": null,
   "id": "fc0d4b30-799b-4147-873c-b11e572afb99",
   "metadata": {},
   "outputs": [],
   "source": [
    "df_merged = pd.merge(df_job, df_company_email, left_on='Company', right_on='Name', how='inner')"
   ]
  },
  {
   "cell_type": "code",
   "execution_count": null,
   "id": "075f2aec-7201-4f98-a5ec-7fa16d5c1f43",
   "metadata": {},
   "outputs": [],
   "source": [
    "import re\n",
    "\n",
    "def extract_days(text):\n",
    "    if 'hari' in text:\n",
    "        match = re.search(r'(\\d+)', text)\n",
    "        return int(match.group()) if match else np.nan\n",
    "    elif 'bulan' in text:\n",
    "        match = re.search(r'(\\d+)', text)\n",
    "        return int(match.group()) * 30 if match else np.nan\n",
    "    return np.nan\n",
    "\n",
    "df_merged['Days_Posted'] = df_merged['Job Posted'].apply(extract_days)\n"
   ]
  },
  {
   "cell_type": "code",
   "execution_count": null,
   "id": "e6ee8526-2e57-4b82-95ae-0c2661aedf54",
   "metadata": {},
   "outputs": [],
   "source": [
    "df_merged['Email Domain'] = df_merged['Cleaned_Email'].str.extract(r'@([\\w\\.-]+)')\n"
   ]
  },
  {
   "cell_type": "code",
   "execution_count": null,
   "id": "e7a4abaf-266b-44c9-9619-82ee2a536fe0",
   "metadata": {},
   "outputs": [],
   "source": [
    "import matplotlib.ticker as ticker\n",
    "\n",
    "sns.set(style='whitegrid')\n",
    "plt.figure(figsize=(12, 6))\n"
   ]
  },
  {
   "cell_type": "code",
   "execution_count": null,
   "id": "580934fa-b14b-4b48-b7d7-3d29fa5573aa",
   "metadata": {},
   "outputs": [],
   "source": [
    "# 2. Mengecek apakah kolom 'Job Link' punya duplikat\n",
    "jumlah_duplikat_joblink = df_merged['Job Link'].duplicated().sum()\n",
    "print(f\"Jumlah duplikat dalam kolom 'Job Link': {jumlah_duplikat_joblink}\")\n",
    "\n",
    "# Jika mau lihat link-linknya\n",
    "duplikat_joblink = df_merged[df_merged['Job Link'].duplicated(keep=False)].sort_values('Job Link')\n",
    "print(\"Data yang memiliki duplikat Job Link:\\n\", duplikat_joblink)"
   ]
  },
  {
   "cell_type": "code",
   "execution_count": null,
   "id": "93df3beb-ce91-46a3-ab0f-448c8935aef9",
   "metadata": {},
   "outputs": [],
   "source": [
    "# Hapus duplikat berdasarkan kolom Job Link\n",
    "df_merged = df_merged.drop_duplicates(subset='Job Link', keep='first')\n",
    "\n",
    "# Cek jumlah baris setelah deduplikasi\n",
    "print(\"Jumlah baris setelah hapus duplikat Job Link:\", len(df_merged))\n"
   ]
  },
  {
   "cell_type": "markdown",
   "id": "07b62897",
   "metadata": {},
   "source": [
    "# data exploration"
   ]
  },
  {
   "cell_type": "code",
   "execution_count": null,
   "id": "70303592-4a02-45ca-87b0-0760ca677298",
   "metadata": {},
   "outputs": [],
   "source": [
    "top_companies = df_merged['Company'].value_counts().nlargest(15)\n",
    "top_companies.plot(kind='barh', color='skyblue')\n",
    "plt.title(\"15 Perusahaan dengan Jumlah Lowongan Terbanyak\")\n",
    "plt.xlabel(\"Jumlah Lowongan\")\n",
    "plt.gca().invert_yaxis()\n",
    "plt.show()\n"
   ]
  },
  {
   "cell_type": "code",
   "execution_count": null,
   "id": "ea1c93e2-aeac-4be5-a53e-3ba659d1ec52",
   "metadata": {},
   "outputs": [],
   "source": [
    "top_companies = df_merged['Company'].value_counts().nlargest(15)\n",
    "top_companies.plot(kind='barh', color='skyblue')\n",
    "plt.title(\"15 Perusahaan dengan Jumlah Lowongan Terbanyak\")\n",
    "plt.xlabel(\"Jumlah Lowongan\")\n",
    "plt.gca().invert_yaxis()\n",
    "plt.show()\n"
   ]
  },
  {
   "cell_type": "code",
   "execution_count": null,
   "id": "9b107a39-4101-4487-93a3-3fbcbc99ce8a",
   "metadata": {},
   "outputs": [],
   "source": [
    "df_merged['Industry'].value_counts().nlargest(10).plot(kind='bar', color='lightgreen')\n",
    "plt.title(\"10 Industri Teratas Berdasarkan Jumlah Lowongan\")\n",
    "plt.ylabel(\"Jumlah Lowongan\")\n",
    "plt.xticks(rotation=45)\n",
    "plt.tight_layout()\n",
    "plt.show()\n"
   ]
  },
  {
   "cell_type": "code",
   "execution_count": null,
   "id": "53acf7e1-4162-4883-b967-26f02c2e39aa",
   "metadata": {},
   "outputs": [],
   "source": [
    "plt.figure(figsize=(8, 5))\n",
    "sns.histplot(df_merged['Days_Posted'].dropna(), bins=20, kde=True, color='salmon')\n",
    "plt.title(\"Distribusi Lama Posting Lowongan\")\n",
    "plt.xlabel(\"Hari\")\n",
    "plt.show()\n",
    "\n",
    "print(\"Rata-rata Durasi:\", df_merged['Days_Posted'].mean())\n",
    "print(\"Median Durasi:\", df_merged['Days_Posted'].median())\n"
   ]
  },
  {
   "cell_type": "code",
   "execution_count": null,
   "id": "fcd42e99-931c-42b5-97a3-cdfe6ddc5807",
   "metadata": {},
   "outputs": [],
   "source": [
    "df_merged['Min Education'].value_counts().plot(kind='barh', color='orange')\n",
    "plt.title(\"Distribusi Jenjang Pendidikan Minimum\")\n",
    "plt.xlabel(\"Jumlah Lowongan\")\n",
    "plt.gca().invert_yaxis()\n",
    "plt.show()\n"
   ]
  },
  {
   "cell_type": "code",
   "execution_count": null,
   "id": "3d6b65d2-5467-44bf-8c54-2b0cb73d6c5d",
   "metadata": {},
   "outputs": [],
   "source": [
    "df_merged['Employment Type'].value_counts().plot(kind='pie', autopct='%1.1f%%', startangle=140, colors=sns.color_palette(\"pastel\"))\n",
    "plt.ylabel('')\n",
    "plt.title(\"Distribusi Tipe Employment\")\n",
    "plt.show()\n"
   ]
  },
  {
   "cell_type": "code",
   "execution_count": null,
   "id": "05548c34-b9bb-4792-b86a-34c78f8dda3f",
   "metadata": {},
   "outputs": [],
   "source": [
    "from collections import Counter\n",
    "\n",
    "skills_list = df_merged['Skills'].dropna().str.split(', ')\n",
    "all_skills = [skill for sublist in skills_list for skill in sublist]\n",
    "common_skills = Counter(all_skills).most_common(15)\n",
    "\n",
    "skills_df = pd.DataFrame(common_skills, columns=['Skill', 'Count'])\n",
    "\n",
    "plt.figure(figsize=(10, 6))\n",
    "sns.barplot(data=skills_df, y='Skill', x='Count', palette='coolwarm')\n",
    "plt.title(\"15 Skills yang Paling Sering Dicari\")\n",
    "plt.show()\n"
   ]
  },
  {
   "cell_type": "code",
   "execution_count": null,
   "id": "ef9f188f-ff9e-4fb8-b73b-d9679b918ec3",
   "metadata": {},
   "outputs": [],
   "source": [
    "df_merged['Email Domain'].value_counts().head(10).plot(kind='bar', color='purple')\n",
    "plt.title(\"10 Domain Email Perusahaan Terpopuler\")\n",
    "plt.ylabel(\"Jumlah Perusahaan\")\n",
    "plt.xticks(rotation=45)\n",
    "plt.tight_layout()\n",
    "plt.show()\n"
   ]
  },
  {
   "cell_type": "code",
   "execution_count": null,
   "id": "77ca3206-0a96-4ce1-8ed8-fb963ec00afb",
   "metadata": {},
   "outputs": [],
   "source": [
    "from collections import Counter\n",
    "\n",
    "# Gabung semua skill jadi satu list\n",
    "skills_list = df_merged['Skills'].dropna().str.split(',').sum()\n",
    "top_skills = Counter([skill.strip() for skill in skills_list if skill.strip() != \"\"]).most_common(10)\n",
    "\n",
    "# Visualisasi\n",
    "skills, counts = zip(*top_skills)\n",
    "plt.figure(figsize=(10,5))\n",
    "sns.barplot(x=counts, y=skills)\n",
    "plt.title('Top 10 Skills yang Paling Dibutuhkan')\n",
    "plt.xlabel('Jumlah')\n",
    "plt.tight_layout()\n",
    "plt.show()\n"
   ]
  },
  {
   "cell_type": "code",
   "execution_count": null,
   "id": "4b714a99-a11d-4023-8de1-c423fdad1f48",
   "metadata": {},
   "outputs": [],
   "source": [
    "df_merged.head(-5)"
   ]
  },
  {
   "cell_type": "code",
   "execution_count": null,
   "id": "13fcef27-3094-45e3-bc5b-d2719294b118",
   "metadata": {},
   "outputs": [],
   "source": [
    "df_merged.columns"
   ]
  },
  {
   "cell_type": "code",
   "execution_count": null,
   "id": "dcf9c12a-6d23-425b-bb77-2fa36385c188",
   "metadata": {},
   "outputs": [],
   "source": [
    "pd.set_option('display.max_columns', None)\n",
    "pd.set_option('display.max_rows', None)"
   ]
  },
  {
   "cell_type": "code",
   "execution_count": null,
   "id": "25d4cb14-846c-4565-97b8-82a5d3c0b994",
   "metadata": {},
   "outputs": [],
   "source": [
    "df_merged.info()"
   ]
  },
  {
   "cell_type": "code",
   "execution_count": null,
   "id": "035a7896-f947-4c7d-ba3e-4dbdc557199b",
   "metadata": {},
   "outputs": [],
   "source": [
    "df_merged = df_merged.rename(columns={\n",
    "    'Location_x': 'Job_Location',\n",
    "    'Location_y': 'Company_Location',\n",
    "    'Company': 'Company_Name'  # untuk menghindari konflik keyword 'Company'\n",
    "})\n"
   ]
  },
  {
   "cell_type": "code",
   "execution_count": null,
   "id": "0a3a044c-fdbc-497a-a56e-1643402ca8b2",
   "metadata": {},
   "outputs": [],
   "source": [
    "df_merged['Skill_Count'] = df_merged['Skills'].apply(lambda x: len(x.split(',')) if pd.notna(x) else 0)\n"
   ]
  },
  {
   "cell_type": "code",
   "execution_count": null,
   "id": "84c64cd6-6502-44d5-ba84-e98af90d164c",
   "metadata": {},
   "outputs": [],
   "source": [
    "# Provinsi: elemen terakhir\n",
    "df_merged['Job_Province'] = df_merged['Job_Location'].apply(\n",
    "    lambda x: x.split(',')[-1].strip() if pd.notna(x) else np.nan\n",
    ")\n",
    "\n",
    "# Kota/Kabupaten: elemen ke-2\n",
    "df_merged['Job_City'] = df_merged['Job_Location'].apply(\n",
    "    lambda x: x.split(',')[1].strip() if pd.notna(x) and len(x.split(',')) > 1 else np.nan\n",
    ")\n"
   ]
  },
  {
   "cell_type": "code",
   "execution_count": null,
   "id": "c4b30e5f-b619-4d58-b149-4da61305c702",
   "metadata": {},
   "outputs": [],
   "source": [
    "import re\n",
    "\n",
    "def extract_salary_min(s):\n",
    "    try:\n",
    "        s_clean = s.replace('.', '').replace(',', '').upper()\n",
    "        result = re.findall(r'IDR(\\d+)', s_clean)\n",
    "        return int(result[0]) if result else np.nan\n",
    "    except:\n",
    "        return np.nan\n",
    "\n",
    "def extract_salary_max(s):\n",
    "    try:\n",
    "        s_clean = s.replace('.', '').replace(',', '').upper()\n",
    "        result = re.findall(r'IDR\\d+\\s*-\\s*(\\d+)', s_clean)\n",
    "        return int(result[0]) if result else np.nan\n",
    "    except:\n",
    "        return np.nan\n",
    "\n",
    "df_merged['Salary_Min'] = df_merged['Salary Range'].apply(extract_salary_min)\n",
    "df_merged['Salary_Max'] = df_merged['Salary Range'].apply(extract_salary_max)\n"
   ]
  },
  {
   "cell_type": "code",
   "execution_count": null,
   "id": "3c8b9a6d-ca8f-4587-adb8-b09c5628bbc8",
   "metadata": {},
   "outputs": [],
   "source": [
    "# df_merged.to_csv(\"final_dataset_jobs.csv\", index=False)\n"
   ]
  },
  {
   "cell_type": "markdown",
   "id": "e0953cb2-3c0e-469f-9d0a-e93ecf6e4859",
   "metadata": {},
   "source": [
    "# data cleaning"
   ]
  },
  {
   "cell_type": "code",
   "execution_count": null,
   "id": "508e29cc-75be-4b18-b42f-c2a2060a3aff",
   "metadata": {},
   "outputs": [],
   "source": [
    "df_merged.info()"
   ]
  },
  {
   "cell_type": "code",
   "execution_count": null,
   "id": "e124c8d4-6585-4caa-b5b0-2854e7c124f7",
   "metadata": {},
   "outputs": [],
   "source": [
    "df_merged.head()"
   ]
  },
  {
   "cell_type": "markdown",
   "id": "16445ba9-d108-4538-86a1-ea7dcbb28787",
   "metadata": {},
   "source": [
    "## edit education"
   ]
  },
  {
   "cell_type": "code",
   "execution_count": null,
   "id": "c4b4f7f0-afd2-44cf-95d0-ae204a465e2e",
   "metadata": {},
   "outputs": [],
   "source": [
    "df_merged['Min Education'].value_counts(dropna=False).reset_index().rename(columns={'index':'Min Education','Min Education':'Count'})\n"
   ]
  },
  {
   "cell_type": "code",
   "execution_count": null,
   "id": "b964a4b0-9d5f-497e-beb6-ef976006b334",
   "metadata": {},
   "outputs": [],
   "source": [
    "edu_mapping = {\n",
    "    \"Minimal SMA/SMK\": \"SMA/SMK\",\n",
    "    \"Minimal Sarjana (S1)\": \"S1\",\n",
    "    \"Minimal Diploma (D1 - D4)\": \"D1-D4\",\n",
    "    \"Minimum Bachelor’s Degree\": \"S1\",\n",
    "    \"Minimal SD\": \"SD\",\n",
    "    \"Minimal SMP\": \"SMP\",\n",
    "    \"Minimum College Degree\": \"D1-D4\",\n",
    "    \"Minimal Magister (S2)\": \"S2\",\n",
    "    \"Minimum Associate Degree\": \"D1-D4\",\n",
    "    \"Minimum Senior/Vocational High School\": \"SMA/SMK\"\n",
    "}\n"
   ]
  },
  {
   "cell_type": "code",
   "execution_count": null,
   "id": "ecc07d21-0412-4ee9-b380-1d800f524296",
   "metadata": {},
   "outputs": [],
   "source": [
    "df_merged['Min Education'] = df_merged['Min Education'].replace(edu_mapping)\n",
    "df_merged['Min Education'] = df_merged['Min Education'].fillna('Unknown')\n"
   ]
  },
  {
   "cell_type": "code",
   "execution_count": null,
   "id": "398b741f-dee1-4d50-bcab-b314ce16afb5",
   "metadata": {},
   "outputs": [],
   "source": [
    "df_merged.isna().sum().reset_index().rename(columns={'index': 'Column', 0: 'Missing Values'})\n"
   ]
  },
  {
   "cell_type": "code",
   "execution_count": null,
   "id": "68ba3af5-5d1d-4253-9e5d-1ee632b9f776",
   "metadata": {},
   "outputs": [],
   "source": [
    "df_merged[['Salary Range', 'Salary_Min', 'Salary_Max']].sample(10)\n"
   ]
  },
  {
   "cell_type": "code",
   "execution_count": null,
   "id": "43d28605-5ffd-45e1-ad5d-bf35a3623224",
   "metadata": {},
   "outputs": [],
   "source": [
    "df_merged.to_excel(\"new_full_dataset_jobs.xlsx\", index=False)\n"
   ]
  },
  {
   "cell_type": "code",
   "execution_count": null,
   "id": "d075fe7d-9182-43ff-9e27-d70076f4e29b",
   "metadata": {},
   "outputs": [],
   "source": [
    "# # Pastikan kolom Cleaned_Email dibaca sebagai string\n",
    "# df_merged['Cleaned_Email'] = df_merged['Cleaned_Email'].astype(str)\n",
    "\n",
    "# # Bersihkan spasi dan string 'nan' yang sebenarnya bukan NaN\n",
    "# df_merged['Cleaned_Email_clean'] = df_merged['Cleaned_Email'].str.strip().replace({'': np.nan, 'nan': np.nan})\n",
    "\n",
    "# # Filter baris yang benar-benar punya email valid\n",
    "# filtered_df = df_merged[df_merged['Cleaned_Email_clean'].notna()]\n",
    "\n",
    "# # Simpan ke file Excel\n",
    "# filtered_df.to_excel(\"01.filter_final_dataset_jobs.xlsx\", index=False)\n"
   ]
  },
  {
   "cell_type": "code",
   "execution_count": null,
   "id": "ce4b765a-3aea-493c-92c2-5dc6b3f74069",
   "metadata": {},
   "outputs": [],
   "source": [
    "import numpy as np\n",
    "import pandas as pd\n",
    "\n",
    "# Pastikan kolom Cleaned_Email dan Phone Number bertipe string\n",
    "df_merged['Cleaned_Email'] = df_merged['Cleaned_Email'].astype(str)\n",
    "df_merged['Phone Number'] = df_merged['Phone Number'].astype(str)\n",
    "\n",
    "# Bersihkan spasi dan ganti 'nan' menjadi NaN\n",
    "df_merged['Cleaned_Email_clean'] = df_merged['Cleaned_Email'].str.strip().replace(\n",
    "    {'': np.nan, 'nan': np.nan}\n",
    ")\n",
    "df_merged['Phone_Number_clean'] = df_merged['Phone Number'].str.strip().replace(\n",
    "    {'': np.nan, 'nan': np.nan}\n",
    ")\n",
    "\n",
    "# Filter: setidaknya salah satu (email atau phone) harus ada\n",
    "filtered_df = df_merged[\n",
    "    df_merged['Cleaned_Email_clean'].notna() | df_merged['Phone_Number_clean'].notna()\n",
    "]\n",
    "\n",
    "# Simpan ke file Excel\n",
    "filtered_df.to_excel(\"00.new_filter_final_dataset_jobs.xlsx\", index=False)\n",
    "\n",
    "print(f\"✅ Total data sebelum filter: {len(df_merged)}, setelah filter: {len(filtered_df)}\")\n"
   ]
  },
  {
   "cell_type": "code",
   "execution_count": null,
   "id": "4aa213ac-3690-4026-81a3-1416ac22b730",
   "metadata": {},
   "outputs": [],
   "source": [
    "filtered_df.info()"
   ]
  },
  {
   "cell_type": "code",
   "execution_count": null,
   "id": "f0d24fbf-818d-4cc3-95b9-2e3abfc8c83d",
   "metadata": {},
   "outputs": [],
   "source": [
    "# # Pastikan kolom Cleaned_Email dibaca sebagai string\n",
    "# df_company['Cleaned_Email'] = df_company['Cleaned_Email'].astype(str)\n",
    "\n",
    "# # Bersihkan spasi dan string 'nan' literal\n",
    "# df_company['Cleaned_Email_clean'] = df_company['Cleaned_Email'].str.strip().replace({'': np.nan, 'nan': np.nan})\n",
    "\n",
    "# # Filter hanya baris dengan email yang valid\n",
    "# filtered_df = df_company[df_company['Cleaned_Email_clean'].notna()]\n",
    "\n",
    "# # Simpan hasil ke file Excel baru\n",
    "# filtered_df.to_excel(\"01.df_company.xlsx\", index=False)"
   ]
  },
  {
   "cell_type": "markdown",
   "id": "ddd9da31-210f-424e-9cb0-8266d8f86c0f",
   "metadata": {},
   "source": [
    "## visualisasi score card"
   ]
  },
  {
   "cell_type": "code",
   "execution_count": null,
   "id": "b0dc60da-1e85-49e1-96f7-b6082be78f0a",
   "metadata": {},
   "outputs": [],
   "source": [
    "import numpy as np\n",
    "import pandas as pd\n",
    "\n",
    "# Total perusahaan unik\n",
    "num_unique_companies = filtered_df['Full URL'].nunique()\n",
    "\n",
    "# Total job unik\n",
    "num_unique_jobs = filtered_df['Job Link'].nunique()\n",
    "\n",
    "# Jumlah data per provinsi\n",
    "jobs_per_province = filtered_df['Job_Province'].value_counts(dropna=False)\n",
    "\n",
    "# Rata-rata hari tayang\n",
    "avg_days_posted = filtered_df['Days_Posted'].mean()\n",
    "\n",
    "# Rata-rata skill per job\n",
    "avg_skills = filtered_df['Skill_Count'].mean()\n",
    "\n",
    "# Jumlah baris yang punya email valid\n",
    "num_with_email = filtered_df['Cleaned_Email_clean'].notna().sum()\n",
    "\n",
    "# Jumlah baris yang punya phone valid\n",
    "num_with_phone = filtered_df['Phone_Number_clean'].notna().sum()\n",
    "\n",
    "# Buat summary dalam bentuk dictionary\n",
    "summary = {\n",
    "    \"Total Data Filtered\": len(filtered_df),\n",
    "    \"Unique Companies (Full URL)\": num_unique_companies,\n",
    "    \"Unique Job Links\": num_unique_jobs,\n",
    "    \"Average Days Posted\": round(avg_days_posted, 2),\n",
    "    \"Average Skills per Job\": round(avg_skills, 2),\n",
    "    \"Has Valid Email\": num_with_email,\n",
    "    \"Has Valid Phone Number\": num_with_phone,\n",
    "}\n",
    "\n",
    "# Konversi ke DataFrame untuk tampilan tabel\n",
    "scorecard_df = pd.DataFrame(list(summary.items()), columns=[\"Metric\", \"Value\"])\n",
    "\n",
    "# Tampilkan scorecard\n",
    "print(scorecard_df)\n",
    "\n",
    "# Jika mau lihat jobs per provinsi lebih detail:\n",
    "print(\"\\nJobs per province:\")\n",
    "print(jobs_per_province)\n"
   ]
  },
  {
   "cell_type": "markdown",
   "id": "f7495f19-cb5d-49d9-86bf-25274981f636",
   "metadata": {},
   "source": [
    "# explode skill for visualisasi"
   ]
  },
  {
   "cell_type": "code",
   "execution_count": null,
   "id": "ac8563b8-7763-49af-a110-4bb9a633f8bc",
   "metadata": {},
   "outputs": [],
   "source": [
    "df_skills = filtered_df.assign(Skills=filtered_df['Skills'].str.split(',')).explode('Skills')\n",
    "\n",
    "# Bersihkan spasi\n",
    "df_skills['Skills'] = df_skills['Skills'].str.strip()\n",
    "\n",
    "df_skills.head()"
   ]
  },
  {
   "cell_type": "code",
   "execution_count": null,
   "id": "0d85bc43-87e7-4378-9b1f-2937f9f0ebc0",
   "metadata": {},
   "outputs": [],
   "source": [
    "df_skills.to_excel(\"00.skilss_explode_df.xlsx\", index=False)"
   ]
  }
 ],
 "metadata": {
  "kernelspec": {
   "display_name": "Python 3 (ipykernel)",
   "language": "python",
   "name": "python3"
  },
  "language_info": {
   "codemirror_mode": {
    "name": "ipython",
    "version": 3
   },
   "file_extension": ".py",
   "mimetype": "text/x-python",
   "name": "python",
   "nbconvert_exporter": "python",
   "pygments_lexer": "ipython3",
   "version": "3.9.2"
  }
 },
 "nbformat": 4,
 "nbformat_minor": 5
}
